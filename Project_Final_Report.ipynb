{
 "cells": [
  {
   "cell_type": "markdown",
   "id": "59abcb27-e09c-42c7-aa1f-4a0001cdf446",
   "metadata": {},
   "source": [
    "## Title for now ##"
   ]
  },
  {
   "cell_type": "markdown",
   "id": "b777c8f7-9b61-4c0d-8d18-05ae754ec038",
   "metadata": {},
   "source": [
    "A research group has set up a MineCraft server to collect data on how people play video games. Players' actions are recorded as they navigate through the world. The data includes players data as well as sessions data. In this report we aim to analyze the question: Can age and played hours predict whether a player is subscribed or not in players data?   \n",
    "\n",
    "In the players data, there are 196 observations and 7 variables. The 7 variables are:\n",
    "\n",
    "- experience (how experienced the player is, type chr)\n",
    "- subscribe (if they are subscribed,type lgl)\n",
    "- hashedEmail (player's emails, type chr)\n",
    "- played_hours (number of hours the player played, type dbl)\n",
    "- name (player's name, type chr)\n",
    "- gender (gender of the player, type chr)\n",
    "- age (age of the player, type dbl)"
   ]
  },
  {
   "cell_type": "code",
   "execution_count": null,
   "id": "9ebd2480-0175-486d-97f4-2a8935c698bb",
   "metadata": {},
   "outputs": [],
   "source": []
  }
 ],
 "metadata": {
  "kernelspec": {
   "display_name": "R",
   "language": "R",
   "name": "ir"
  },
  "language_info": {
   "codemirror_mode": "r",
   "file_extension": ".r",
   "mimetype": "text/x-r-source",
   "name": "R",
   "pygments_lexer": "r",
   "version": "4.3.3"
  }
 },
 "nbformat": 4,
 "nbformat_minor": 5
}
